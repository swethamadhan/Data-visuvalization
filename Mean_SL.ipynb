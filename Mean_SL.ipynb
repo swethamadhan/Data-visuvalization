{
  "nbformat": 4,
  "nbformat_minor": 0,
  "metadata": {
    "colab": {
      "provenance": []
    },
    "kernelspec": {
      "name": "python3",
      "display_name": "Python 3"
    },
    "language_info": {
      "name": "python"
    }
  },
  "cells": [
    {
      "cell_type": "markdown",
      "source": [
        "#Mean Median Mode"
      ],
      "metadata": {
        "id": "5KMEUoQWNwws"
      }
    },
    {
      "cell_type": "markdown",
      "source": [
        "#####Mean:\n"
      ],
      "metadata": {
        "id": "_BtCCABLN5_6"
      }
    },
    {
      "cell_type": "code",
      "execution_count": null,
      "metadata": {
        "colab": {
          "base_uri": "https://localhost:8080/"
        },
        "id": "TsSo3PmoNuT1",
        "outputId": "0b9e81df-05f2-4fc5-b68f-7c4fb781b473"
      },
      "outputs": [
        {
          "output_type": "stream",
          "name": "stdout",
          "text": [
            "Mean / Average is:  3.0\n"
          ]
        }
      ],
      "source": [
        "n_num = [1, 2, 3, 4, 5]\n",
        "n = len(n_num)\n",
        "get_sum = sum(n_num)\n",
        "mean = get_sum / n\n",
        "print(\"Mean / Average is: \", mean)"
      ]
    },
    {
      "cell_type": "markdown",
      "source": [
        "#####Median:\n"
      ],
      "metadata": {
        "id": "qFecEsRjOBJM"
      }
    },
    {
      "cell_type": "code",
      "source": [
        "n_num.sort()\n",
        "if n % 2 == 0:\n",
        " median1 = n_num[n//2]\n",
        " median2 = n_num[n//2 - 1]\n",
        " median = (median1 + median2)/2\n",
        "else:\n",
        " median = n_num[n//2]\n",
        "print (\"Median is: \", median)"
      ],
      "metadata": {
        "colab": {
          "base_uri": "https://localhost:8080/"
        },
        "id": "aZTIY_61N7-j",
        "outputId": "2e481866-5f56-40dc-b975-93c1601d2923"
      },
      "execution_count": null,
      "outputs": [
        {
          "output_type": "stream",
          "name": "stdout",
          "text": [
            "Median is:  3\n"
          ]
        }
      ]
    },
    {
      "cell_type": "markdown",
      "source": [
        "#####Mode:\n"
      ],
      "metadata": {
        "id": "0I0itv_7OEQS"
      }
    },
    {
      "cell_type": "code",
      "source": [
        "from collections import Counter\n",
        "n_num = [1, 2, 3, 4, 5, 5]\n",
        "n = len(n_num)\n",
        "data = Counter(n_num)\n",
        "get_mode = dict(data)\n",
        "mode = [k for k, v in get_mode.items() if v == max(list(data.values()))]\n",
        "if len(mode) == n:\n",
        "  get_mode = \"No mode found\"\n",
        "else:\n",
        "  get_mode = \"Mode is / are: \" + ', '.join(map(str, mode))\n",
        "print(get_mode)"
      ],
      "metadata": {
        "colab": {
          "base_uri": "https://localhost:8080/"
        },
        "id": "tkpnKHHFODk7",
        "outputId": "ebf75de4-0e56-437a-94c6-df32947b21cf"
      },
      "execution_count": null,
      "outputs": [
        {
          "output_type": "stream",
          "name": "stdout",
          "text": [
            "Mode is / are: 5\n"
          ]
        }
      ]
    },
    {
      "cell_type": "markdown",
      "source": [
        "#Straigh Line"
      ],
      "metadata": {
        "id": "10XNKa4XOTH2"
      }
    },
    {
      "cell_type": "code",
      "source": [
        "import matplotlib.pyplot as plt\n",
        "import numpy as np"
      ],
      "metadata": {
        "id": "YT7RtlbUOJmc"
      },
      "execution_count": null,
      "outputs": []
    },
    {
      "cell_type": "markdown",
      "source": [
        "#####Horizontal Line"
      ],
      "metadata": {
        "id": "UXdmIkHgOZNb"
      }
    },
    {
      "cell_type": "code",
      "source": [
        "x=np.linspace(-1,1,3)\n",
        "y=[5,5,5]\n",
        "plt.plot(x, y, 'y', color='r', linestyle='-.',linewidth=3)\n",
        "plt.show()\n"
      ],
      "metadata": {
        "colab": {
          "base_uri": "https://localhost:8080/",
          "height": 265
        },
        "id": "OoXDJ__wOeIb",
        "outputId": "15987bcc-ff4d-46f3-feec-1078465255ba"
      },
      "execution_count": null,
      "outputs": [
        {
          "output_type": "display_data",
          "data": {
            "text/plain": [
              "<Figure size 432x288 with 1 Axes>"
            ],
            "image/png": "[encoded data removed]"
          },
          "metadata": {
            "needs_background": "light"
          }
        }
      ]
    },
    {
      "cell_type": "markdown",
      "source": [
        "#####Vertical line:\n"
      ],
      "metadata": {
        "id": "v6_T8g7uOhkk"
      }
    },
    {
      "cell_type": "code",
      "source": [
        "x=[5,5,5]\n",
        "y=np.linspace(-1,1,3)\n",
        "plt.plot(x, y, 'y', color='g', linestyle=':',linewidth=5)\n",
        "plt.show()\n"
      ],
      "metadata": {
        "colab": {
          "base_uri": "https://localhost:8080/",
          "height": 265
        },
        "id": "IiQawyI7OhTK",
        "outputId": "c8136a6c-95b6-4324-82f7-c0edf15641d4"
      },
      "execution_count": null,
      "outputs": [
        {
          "output_type": "display_data",
          "data": {
            "text/plain": [
              "<Figure size 432x288 with 1 Axes>"
            ],
            "image/png": "[encoded data removed]"
          },
          "metadata": {
            "needs_background": "light"
          }
        }
      ]
    },
    {
      "cell_type": "markdown",
      "source": [
        "#####Line with positive slope:"
      ],
      "metadata": {
        "id": "XdEimLVSOk-6"
      }
    },
    {
      "cell_type": "code",
      "source": [
        "x=np.linspace(-1,1,3)\n",
        "y=[5,5,5]\n",
        "plt.plot(x, y, 'y', linewidth=3)\n",
        "plt.show()"
      ],
      "metadata": {
        "colab": {
          "base_uri": "https://localhost:8080/",
          "height": 265
        },
        "id": "4t-8MzfqOkl7",
        "outputId": "2a3c0e8e-90cd-4b07-91e2-82d0fe9291d2"
      },
      "execution_count": null,
      "outputs": [
        {
          "output_type": "display_data",
          "data": {
            "text/plain": [
              "<Figure size 432x288 with 1 Axes>"
            ],
            "image/png": "[encoded data removed]"
          },
          "metadata": {
            "needs_background": "light"
          }
        }
      ]
    },
    {
      "cell_type": "markdown",
      "source": [
        "#####Line with negative slope:"
      ],
      "metadata": {
        "id": "tVEoNuM-Orvb"
      }
    },
    {
      "cell_type": "code",
      "source": [
        "x=np.linspace(-1,1,3)\n",
        "y=-x\n",
        "plt.plot(x, y, 'y',color='b', linestyle='--', linewidth=3)\n",
        "plt.show()"
      ],
      "metadata": {
        "colab": {
          "base_uri": "https://localhost:8080/",
          "height": 265
        },
        "id": "YSoIvvxDOpzr",
        "outputId": "75893b9a-c72b-4b92-b152-2f82f70163d3"
      },
      "execution_count": null,
      "outputs": [
        {
          "output_type": "display_data",
          "data": {
            "text/plain": [
              "<Figure size 432x288 with 1 Axes>"
            ],
            "image/png": "[encoded data removed]"
          },
          "metadata": {
            "needs_background": "light"
          }
        }
      ]
    }
  ]
}