{
  "cells": [
    {
      "cell_type": "markdown",
      "source": [
        "#SD"
      ],
      "metadata": {
        "id": "ULWSPmsAJIe0"
      },
      "id": "ULWSPmsAJIe0"
    },
    {
      "cell_type": "markdown",
      "source": [
        "#####Without PSTDEV\n",
        "\n"
      ],
      "metadata": {
        "id": "KcOG-vt9I_tF"
      },
      "id": "KcOG-vt9I_tF"
    },
    {
      "cell_type": "code",
      "source": [],
      "metadata": {
        "id": "PjfEBy86Jr11"
      },
      "id": "PjfEBy86Jr11",
      "execution_count": null,
      "outputs": []
    },
    {
      "cell_type": "code",
      "source": [
        "test_list = [4, 5, 8, 9, 10]\n",
        "print(\"The original list: \", test_list)\n",
        "mean = sum(test_list) / len(test_list)\n",
        "variance = sum([((x - mean) ** 2) for x in test_list]) / len(test_list)\n",
        "res = variance ** 0.5\n",
        "print(\"Standard deviation of sample is: \", res)"
      ],
      "metadata": {
        "colab": {
          "base_uri": "https://localhost:8080/"
        },
        "id": "WHr72Ou7I1Wt",
        "outputId": "e9067f3d-580b-4113-b8ce-07d92c079c0c"
      },
      "id": "WHr72Ou7I1Wt",
      "execution_count": null,
      "outputs": [
        {
          "output_type": "stream",
          "name": "stdout",
          "text": [
            "The original list:  [4, 5, 8, 9, 10]\n",
            "Standard deviation of sample is:  2.3151673805580453\n"
          ]
        }
      ]
    },
    {
      "cell_type": "markdown",
      "source": [
        "#####With PSTDEV\n",
        "\n"
      ],
      "metadata": {
        "id": "GogdNA53JHVk"
      },
      "id": "GogdNA53JHVk"
    },
    {
      "cell_type": "code",
      "source": [
        "import statistics\n",
        "test_list = [4, 5, 8, 9, 10]\n",
        "print(\"The original list: \" , test_list)\n",
        "res = statistics.pstdev(test_list)\n",
        "print(\"Standard deviation of sample is: \" , res)\n"
      ],
      "metadata": {
        "colab": {
          "base_uri": "https://localhost:8080/"
        },
        "id": "dwK2LRceJSEN",
        "outputId": "60f88541-c16f-4ac7-bc9f-cd335dcc12d0"
      },
      "id": "dwK2LRceJSEN",
      "execution_count": null,
      "outputs": [
        {
          "output_type": "stream",
          "name": "stdout",
          "text": [
            "The original list:  [4, 5, 8, 9, 10]\n",
            "Standard deviation of sample is:  2.3151673805580453\n"
          ]
        }
      ]
    },
    {
      "cell_type": "markdown",
      "source": [
        "#RC"
      ],
      "metadata": {
        "id": "rYxpUTVrJXz7"
      },
      "id": "rYxpUTVrJXz7"
    },
    {
      "cell_type": "code",
      "execution_count": null,
      "id": "29d23d93",
      "metadata": {
        "id": "29d23d93",
        "outputId": "9af0aa16-c5ac-4fcf-d12c-a59bfaf4fdf6"
      },
      "outputs": [
        {
          "name": "stdout",
          "output_type": "stream",
          "text": [
            "Rankings of X:\n",
            "0    1.5\n",
            "1    3.0\n",
            "2    4.5\n",
            "3    1.5\n",
            "4    4.5\n",
            "dtype: float64\n",
            "Rankings of Y:\n",
            "0    1.5\n",
            "1    1.5\n",
            "2    4.0\n",
            "3    4.0\n",
            "4    4.0\n",
            "dtype: float64\n",
            "Spearman's Rank correlation: 0.4564354645876384\n"
          ]
        }
      ],
      "source": [
        "import pandas as pd\n",
        "import scipy.stats\n",
        " \n",
        "x = [15,18,21, 15, 21]\n",
        "y = [25,25,27,27,27]\n",
        " \n",
        "def spearmans_rank_correlation(x, y):\n",
        "    xranks = pd.Series(x).rank()\n",
        "    print(\"Rankings of X:\")\n",
        "    print(xranks)\n",
        "    yranks = pd.Series(y).rank()\n",
        "    print(\"Rankings of Y:\")\n",
        "    print(yranks)\n",
        "    print(\"Spearman's Rank correlation:\", scipy.stats.pearsonr(xranks, yranks)[0]) \n",
        "spearmans_rank_correlation(x, y)\n"
      ]
    }
  ],
  "metadata": {
    "kernelspec": {
      "display_name": "Python 3 (ipykernel)",
      "language": "python",
      "name": "python3"
    },
    "language_info": {
      "codemirror_mode": {
        "name": "ipython",
        "version": 3
      },
      "file_extension": ".py",
      "mimetype": "text/x-python",
      "name": "python",
      "nbconvert_exporter": "python",
      "pygments_lexer": "ipython3",
      "version": "3.8.7"
    },
    "colab": {
      "provenance": [],
      "collapsed_sections": []
    }
  },
  "nbformat": 4,
  "nbformat_minor": 5
}